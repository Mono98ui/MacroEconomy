{
 "cells": [
  {
   "cell_type": "code",
   "execution_count": 1,
   "id": "2e9fa5c6",
   "metadata": {},
   "outputs": [],
   "source": [
    "import pandas as pd\n",
    "import pandas_datareader as pdr\n",
    "import datetime\n",
    "import plotly.express as px\n",
    "from plotly.subplots import make_subplots\n",
    "import plotly.graph_objects as go\n",
    "import backtrader as bt\n",
    "import backtrader.feeds as btfeeds\n",
    "import backtrader.analyzers as btanalyzers\n",
    "#import eikon as ek\n",
    "#matplotlib 3.2.2\n",
    "\n",
    "\n",
    "from DataManager import DataManager\n",
    "from SeriesRules import SeriesRules\n",
    "from ThreeTwelveCross import ThreeTwelveCross\n",
    "from Report import Report\n",
    "from MoneyCreditGrowth import MoneyCreditGrowth\n",
    "from IndicatorStrat import IndicatorStrat"
   ]
  },
  {
   "cell_type": "code",
   "execution_count": 2,
   "id": "c6d86f9d",
   "metadata": {},
   "outputs": [],
   "source": [
    "#download the data and stock them in the csv file\n",
    "start = datetime.datetime (1900, 5, 1)\n",
    "end = datetime.datetime (2040, 6, 1)\n",
    "dm = DataManager(start, end)\n",
    "dm.create_csv()"
   ]
  },
  {
   "cell_type": "code",
   "execution_count": 3,
   "id": "f950ae38",
   "metadata": {},
   "outputs": [],
   "source": [
    "#dm.showplots(['INDPRO','MYAGM1USM052S'])"
   ]
  },
  {
   "cell_type": "code",
   "execution_count": 4,
   "id": "3c64d5b5",
   "metadata": {},
   "outputs": [],
   "source": [
    "#dm.displayDF(['INDPRO','MYAGM1USM052S'])"
   ]
  },
  {
   "cell_type": "code",
   "execution_count": 5,
   "id": "6be717ea",
   "metadata": {},
   "outputs": [],
   "source": [
    "#dm.setstartdate(datetime.datetime (1999, 5, 1))"
   ]
  },
  {
   "cell_type": "code",
   "execution_count": 6,
   "id": "f12b1c6b",
   "metadata": {},
   "outputs": [],
   "source": [
    "#dm.displayDF(['INDPRO','MYAGM1USM052S'])"
   ]
  },
  {
   "cell_type": "code",
   "execution_count": 7,
   "id": "0d81e2ec",
   "metadata": {},
   "outputs": [],
   "source": [
    "#dm.setstartdate(datetime.datetime (1950, 1, 1))\n",
    "#dm.displayDF(['MYAGM1USM052S'])\n",
    "#dm.showplots(['MYAGM1USM052S'])"
   ]
  },
  {
   "cell_type": "code",
   "execution_count": 8,
   "id": "1c850e47",
   "metadata": {},
   "outputs": [
    {
     "data": {
      "text/plain": [
       "139400000000.0"
      ]
     },
     "execution_count": 8,
     "metadata": {},
     "output_type": "execute_result"
    }
   ],
   "source": [
    " df = pd.read_csv('Data/MYAGM1USM052S.csv')\n",
    "df[\"MYAGM1USM052S\"][1]"
   ]
  },
  {
   "cell_type": "code",
   "execution_count": null,
   "id": "ca7d5b0c",
   "metadata": {},
   "outputs": [
    {
     "name": "stderr",
     "output_type": "stream",
     "text": [
      "C:\\Users\\phamk\\Documents\\GitHub\\MacroEconomy\\SeriesRules.py:54: RuntimeWarning: divide by zero encountered in scalar divide\n",
      "  growth = (((df[key][i] /df[key][i-3])**(12/3))-1)*100\n"
     ]
    }
   ],
   "source": [
    "#create the three month rule\n",
    "sr = SeriesRules(dm.getlabeldict().keys())\n",
    "listRule = sr.createthreemonthrule()\n",
    "dm.addcolumn_csv(dm.getlabeldict().keys(),\"3m growth rate\", listRule)\n",
    "#dm.getlabeldict().keys()"
   ]
  },
  {
   "cell_type": "code",
   "execution_count": null,
   "id": "8821fdc1",
   "metadata": {},
   "outputs": [],
   "source": [
    "#dm.getdfdict()[\"IC4WSA\"].head(50)"
   ]
  },
  {
   "cell_type": "code",
   "execution_count": null,
   "id": "528ea5bd",
   "metadata": {},
   "outputs": [],
   "source": [
    "#create the twelve month rule\n",
    "listRule = sr.createtwelvemonthrule()\n",
    "#print(listRule[\"IC4WSA\"])\n",
    "dm.addcolumn_csv(dm.getlabeldict().keys(),\"12m growth rate\", listRule)"
   ]
  },
  {
   "cell_type": "code",
   "execution_count": null,
   "id": "daf5eacb",
   "metadata": {
    "scrolled": true
   },
   "outputs": [],
   "source": [
    "# start = datetime.datetime (1900, 5, 1)\n",
    "# end = datetime.datetime (2040, 6, 1)\n",
    "# dm = DataManager(start, end)\n",
    "\n",
    "# Generate the report base on the data mention just before\n",
    "rep=Report()\n",
    "for key, value in dm.getmoneycreditgrowth().items():\n",
    "    res = rep.generateStratChart(key,value)\n",
    "    rep.createCsvReport(res, key,value)\n",
    "mc = MoneyCreditGrowth()\n",
    "mc.computeSumIndex()"
   ]
  },
  {
   "cell_type": "code",
   "execution_count": null,
   "id": "154b414d",
   "metadata": {
    "scrolled": false
   },
   "outputs": [],
   "source": [
    "# # class MyBuySell(bt.observers.BuySell):\n",
    "# #     plotlines = dict(\n",
    "# #         buy=dict(marker='$\\u21E7$', markersize=6.0),\n",
    "# #         sell=dict(marker='$\\u21E9$', markersize=6.0)\n",
    "# #     )    \n",
    "    \n",
    "# cerebro = bt.Cerebro()\n",
    "\n",
    "# # better net liquidation value view\n",
    "# cerebro.addobserver(bt.observers.Value,barplot=True,\n",
    "#         bardist=0.1)\n",
    "\n",
    "# bt.observers.BuySell = MyBuySell\n",
    "\n",
    "#\n",
    "#This cell code visualise the money credit growth module using five indicators. \n",
    "#\n",
    "cerebro = bt.Cerebro()\n",
    "\n",
    "cerebro = bt.Cerebro(stdstats=False)  # remove the standard observers\n",
    "cerebro.addobserver(bt.observers.Trades)\n",
    "\n",
    "cerebro.addobserver(\n",
    "        bt.observers.BuySell,\n",
    "        barplot=True,\n",
    "        bardist=0.015)\n",
    "\n",
    "cerebro.addstrategy(IndicatorStrat)\n",
    "\n",
    "\n",
    "data1 = btfeeds.GenericCSVData(\n",
    "    dataname='Data/TB3MS.csv',\n",
    "\n",
    "    fromdate=datetime.datetime(1985, 1, 4),\n",
    "    todate=datetime.datetime(2010, 1, 4),\n",
    "    timeframe=bt.TimeFrame.Months,\n",
    "    nullvalue=0.0,\n",
    "\n",
    "    dtformat=('%Y-%m-%d'),\n",
    "\n",
    "    datetime=0,\n",
    "    high=1,\n",
    "    low=1,\n",
    "    open=1,\n",
    "    close=1,\n",
    "    volume=-1,\n",
    "    openinterest=-1\n",
    ") \n",
    "cerebro.adddata(data1, name='3-month-yield')\n",
    "\n",
    "data2 = btfeeds.GenericCSVData(\n",
    "    dataname='DataReport/results-MoneyCredit.csv',\n",
    "\n",
    "    fromdate=datetime.datetime(1985, 1, 4),\n",
    "    todate=datetime.datetime(2010, 1, 4),\n",
    "    timeframe=bt.TimeFrame.Months,\n",
    "    nullvalue=0.0,\n",
    "\n",
    "    dtformat=('%Y-%m-%d'),\n",
    "\n",
    "    datetime=1,\n",
    "    high=8,\n",
    "    low=8,\n",
    "    open=8,\n",
    "    close=8,\n",
    "    volume=-1,\n",
    "    openinterest=-1\n",
    ") \n",
    "\n",
    "cerebro.adddata(data2, name='Money Credit')\n",
    "\n",
    "# data3 = btfeeds.GenericCSVData(\n",
    "#     dataname='data/MYAGM1USM052S.csv',\n",
    "\n",
    "#     fromdate=datetime.datetime(1960, 1, 4),\n",
    "#     #     todate=datetime.datetime(1984, 12, 31),\n",
    "#     todate=datetime.datetime(1969, 1, 4),\n",
    "#     timeframe=bt.TimeFrame.Months,\n",
    "#     nullvalue=0.0,\n",
    "\n",
    "#     dtformat=('%Y-%m-%d'),\n",
    "\n",
    "#     datetime=0,\n",
    "#     high=3,\n",
    "#     low=3,\n",
    "#     open=3,\n",
    "#     close=3,\n",
    "#     volume=-1,\n",
    "#     openinterest=-1\n",
    "# )\n",
    "\n",
    "# data3.compensate(data2)  # let the system know ops on data1 affect data0\n",
    "# data3.plotinfo.plotmaster = data2\n",
    "# data3.plotinfo.sameaxis = True\n",
    "\n",
    "# cerebro.adddata(data3, name='m1 12 month growth')\n",
    "cerebro.addanalyzer(btanalyzers.TradeAnalyzer, _name='analyserTB3')\n",
    "\n",
    "thestrats = cerebro.run()\n",
    "thestrat = thestrats[0]\n",
    "\n",
    "cerebro.plot()\n",
    "\n",
    "result = thestrat.analyzers.analyserTB3.get_analysis()\n",
    "\n",
    "listNames = [\"title\",\"total\",\"win-count\",\n",
    "        \"percent-win\",\"pnl-average\", \"trade-len\",\"expected-value\"]\n",
    "dictDf={}\n",
    "dictDf[listNames[0]] = \"Indicator over TB3\"\n",
    "dictDf[listNames[1]] = result.total.total\n",
    "dictDf[listNames[2]] = result.won.total\n",
    "dictDf[listNames[3]] = float(dictDf[\"win-count\"])/float(dictDf[\"total\"])\n",
    "dictDf[listNames[4]] = result.pnl.gross.average\n",
    "dictDf[listNames[5]] = result.len.average\n",
    "dictDf[listNames[6]] = dictDf[listNames[3]] * dictDf[listNames[4]]\n",
    "df = pd.DataFrame(dictDf.items(), columns=[\"label\",\"value\"])\n",
    "        #title\n",
    "print(df.loc[ 0 , : ][\"value\"])\n",
    "display(df)\n",
    "# lol =  thestrat.analyzers.mytradeanalyzer.get_analysis() \n",
    "# print(\"Total trades Open/Close\")\n",
    "# print('TradeAnalyzer:', lol.total)\n",
    "# print(\"----------------------\")\n",
    "# print(\"PNL\")\n",
    "# print('TradeAnalyzer:', lol.pnl)\n",
    "# print(\"----------------------\")\n",
    "# #print('TradeAnalyzer:', lol.streak)\n",
    "# print(\"Win count\")\n",
    "# print('TradeAnalyzer:', lol.won)\n",
    "# print(\"----------------------\")\n",
    "# print(\"Lost count\")\n",
    "# print('TradeAnalyzer:', lol.lost)\n",
    "# print(\"----------------------\")\n",
    "# print(\"Trade Lenght\")\n",
    "# print('TradeAnalyzer:', lol.len)\n",
    "# #print('TradeAnalyzer:', lol.long)\n",
    "# #print('TradeAnalyzer:', lol.short)\n",
    "# #df = pd.DataFrame(lol, columns=lol.keys())"
   ]
  },
  {
   "cell_type": "code",
   "execution_count": null,
   "id": "1fa218bd",
   "metadata": {},
   "outputs": [],
   "source": [
    "# ek.set_app_key('58cfa4c91e5a4d74bd5d965ba676c3480f95b6fd')\n",
    "# df, err = ek.get_data(['GOOG.O','MSFT.O', 'FB.O'], \n",
    "\n",
    "#                       [ 'TR.Revenue','TR.GrossProfit'])\n",
    "\n",
    "# df"
   ]
  },
  {
   "cell_type": "code",
   "execution_count": null,
   "id": "641c1f8e",
   "metadata": {},
   "outputs": [],
   "source": []
  }
 ],
 "metadata": {
  "kernelspec": {
   "display_name": "Python 3 (ipykernel)",
   "language": "python",
   "name": "python3"
  },
  "language_info": {
   "codemirror_mode": {
    "name": "ipython",
    "version": 3
   },
   "file_extension": ".py",
   "mimetype": "text/x-python",
   "name": "python",
   "nbconvert_exporter": "python",
   "pygments_lexer": "ipython3",
   "version": "3.10.11"
  }
 },
 "nbformat": 4,
 "nbformat_minor": 5
}
